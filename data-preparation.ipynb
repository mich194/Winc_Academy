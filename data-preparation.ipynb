{
 "cells": [
  {
   "cell_type": "markdown",
   "metadata": {},
   "source": [
    "<img src=\"https://static.wincacademy.nl/logos/main-logo.png\" height=200px style=\"height: 200px\"/>\n"
   ]
  },
  {
   "cell_type": "code",
   "execution_count": null,
   "metadata": {},
   "outputs": [],
   "source": [
    "!pip install matplotlib --user > /dev/null 2>&1\n",
    "!pip install numpy --user > /dev/null 2>&1\n",
    "!pip install pandas --user > /dev/null 2>&1\n",
    "\n",
    "%matplotlib inline\n",
    "import numpy as np\n",
    "import matplotlib.pyplot as plt\n",
    "import pandas as pd\n",
    "import csv"
   ]
  },
  {
   "cell_type": "markdown",
   "metadata": {},
   "source": [
    "# Data Preparation\n",
    "\n",
    "## CSV\n",
    "\n",
    "Let's talk about the messy part of data analytics: preparing data. Before doing the interesting work of data analytics, we need to:\n",
    "\n",
    "1. Gather the data.\n",
    "2. Structure the data in such a way that we can work with it in our programs.\n",
    "3. Clean the data, which may include dealing with missing or unreasonable values.\n",
    "\n",
    "Here we'll assume gathering the data has been done for us. We'll use a dataset provided by the Dutch *Rijksinstituut voor Volksgezondheid en Milieu* (RIVM, translation: National Institute for Health and Environment). It contains COVID-19 numbers per municipality per day. You should place a copy of the data in a file called `covid-data.csv` located in the same folder as this notebook (be it in Google Colab or locally). You can use the URL below to retrieve it.\n",
    "\n",
    "- Source: Rijksinstituut voor Volksgezondheid en Milieu\n",
    "- Data URL: https://data.rivm.nl/covid-19/COVID-19_aantallen_gemeente_per_dag.csv"
   ]
  },
  {
   "cell_type": "code",
   "execution_count": null,
   "metadata": {},
   "outputs": [],
   "source": [
    "data_loc = 'covid-data.csv'\n",
    "covid_data = open(data_loc).read()"
   ]
  },
  {
   "cell_type": "markdown",
   "metadata": {},
   "source": [
    "Let's take a look at what it looks like by printing the first 1000 characters."
   ]
  },
  {
   "cell_type": "code",
   "execution_count": null,
   "metadata": {},
   "outputs": [],
   "source": [
    "print(covid_data[:1000])"
   ]
  },
  {
   "cell_type": "markdown",
   "metadata": {},
   "source": [
    "That looks pretty chaotic. The data is in a format called `csv`, which is a commonly used format to store and share data.\n",
    "\n",
    "1. A `csv` file contains only text.\n",
    "2. The first line a `csv` file lists column names.\n",
    "3. Each line after that is a datapoint with values for those columns in the same order.\n",
    "\n",
    "Let's look at the first 3 lines instead of the first 1000 characters."
   ]
  },
  {
   "cell_type": "code",
   "execution_count": null,
   "metadata": {},
   "outputs": [],
   "source": [
    "for line in covid_data.split('\\n')[:3]:\n",
    "    print(line)"
   ]
  },
  {
   "cell_type": "markdown",
   "metadata": {},
   "source": [
    "**1. What are the column names for this dataset? List them here.**\n",
    "\n",
    "*TODO: Your answer here.*\n",
    "\n",
    "- First column\n",
    "- Second column\n",
    "- ...\n",
    "\n",
    "**2. Which character separates the datapoints from each other? Put an `x` in the right box.**\n",
    "\n",
    "- [ ] A linebreak\n",
    "- [ ] A tab\n",
    "- [ ] A comma\n",
    "\n",
    "**3. Which character separates the columns within a datapoint from each other?**\n",
    "\n",
    "*TODO: Your answer here.*\n",
    "\n",
    "\n",
    "### Parsing\n",
    "\n",
    "Let's use this information to read the data into our program in a better way. This is known as [*parsing*](https://en.wikipedia.org/wiki/Parsing). Our goal is to structure the data in such a way that we'll be able to write code like this to make it easier to work with the data:\n",
    "\n",
    "```python\n",
    "# For some datapoint, show me the municipality that it concerns.\n",
    "some_datapoint['Municipality_name']\n",
    "```\n",
    "\n",
    "By answering the questions above we have all the information we need to organize the internal *data structure* in this way.\n",
    "\n",
    "- We know what separates datapoints from each other.\n",
    "- We know how columns are separated within datapoints.\n",
    "- We have the column names for each datapoint.\n",
    "\n",
    "We can use this information to instruct Python -- the programming language we're using here -- to create a *data structure* that we can use like in the example above. Once completed, we'll have *parsed* the CSV file.\n",
    "\n",
    "**4. What is parsing in your own words?**\n",
    "\n",
    "*TODO: Your answer here.*\n",
    "\n",
    "**5. Fill in the right column delimiter in the code cell below to complete the code.**"
   ]
  },
  {
   "cell_type": "code",
   "execution_count": null,
   "metadata": {},
   "outputs": [],
   "source": [
    "# TODO: Change PLACEHOLDER to the actual delimiter.\n",
    "delimiter = 'PLACEHOLDER'\n",
    "# Make sure the delimiter is surrounded by quotes, for example: delimiter = '<' if the delimiter is <\n",
    "\n",
    "with open(data_loc) as f:\n",
    "    csv_reader = csv.DictReader(f, delimiter=delimiter)\n",
    "    print('Municipality name\\tTotal cases reported')\n",
    "    print('{:=>45}'.format(''))\n",
    "    data_dicts = list(csv_reader)\n",
    "\n",
    "for row in data_dicts[:15]:\n",
    "    print('{:<23} {:<5}'.format(row['Municipality_name'], row['Total_reported']))"
   ]
  },
  {
   "cell_type": "markdown",
   "metadata": {},
   "source": [
    "Note: Your delimiter was not filled in (correctly) if you got one of these errors:\n",
    "\n",
    "```python\n",
    "TypeError: \"delimiter\" must be a 1-character string\n",
    "KeyError: 'Municipality_name'\n",
    "```\n",
    "\n",
    "## Metadata\n",
    "\n",
    "Alright, this is much better that looking at raw text, like we did before parsing. We'll get to even better views of the data later. First, let's take a look at some *metadata* -- data about data.\n",
    "- The number of datapoints\n",
    "- The number of columns\n",
    "- The names of the columns (again)\n",
    "- The number of missing or empty values\n",
    "- The number of unique values in each column"
   ]
  },
  {
   "cell_type": "code",
   "execution_count": null,
   "metadata": {},
   "outputs": [],
   "source": [
    "from collections import defaultdict\n",
    "\n",
    "print(f'Number of datapoints: {len(data_dicts)}')\n",
    "print(f'Number of columns: {len(data_dicts[0])}')\n",
    "print('Column names:')\n",
    "for k in data_dicts[0].keys():\n",
    "    print(f'- {k}')\n",
    "    \n",
    "unique_vals = [set() for _ in data_dicts[0].keys()]\n",
    "missing = 0\n",
    "for datapoint in data_dicts:\n",
    "    for i, val in enumerate(datapoint.values()):\n",
    "        unique_vals[i].add(val)\n",
    "        if val is None or val == '':\n",
    "            missing += 1\n",
    "print(f'Missing/empty values: {missing}')\n",
    "\n",
    "print('Number of unique values:')\n",
    "for i, k in enumerate(data_dicts[0].keys()):\n",
    "    print('- {:<25}{:5}'.format(k, len(unique_vals[i])))"
   ]
  },
  {
   "cell_type": "markdown",
   "metadata": {},
   "source": [
    "**6. Note three questions that you have about the data based on this metadata. It might be something like:**\n",
    "\n",
    "> **\"What is the first and last *date of publication* in the dataset?\"**\n",
    "\n",
    "*TODO: Your answer here.*\n",
    "\n",
    "**7. Note another metadata property that you would like to know about that's not listed here.**\n",
    "\n",
    "*TODO: Your answer here.*\n",
    "\n",
    "## Working with dates\n",
    "\n",
    "Looking at the metadata is a good way to get a feel for what a dataset looks like, and what type of questions you can answer with it. Let's use our example question to proceed with data preparation:\n",
    "\n",
    "> What is the first and last *date of publication* in the dataset?\n",
    "\n",
    "To answer this question, we can't just assume the first date is at the top and the last date is at the bottom, or vice versa. We need some way to do compare the dates and find out which one is the first and which one is the last. Let's first inspect a few entries in the `Date_of_publication` column to see what they look like."
   ]
  },
  {
   "cell_type": "code",
   "execution_count": null,
   "metadata": {},
   "outputs": [],
   "source": [
    "print('The current datatype for the Date_of_publication column is:', type(data_dicts[0]['Date_of_publication']))\n",
    "for row in data_dicts[::int(len(data_dicts) / 20)]:\n",
    "    print(row['Date_of_publication'])"
   ]
  },
  {
   "cell_type": "markdown",
   "metadata": {},
   "source": [
    "We see that the data type is `str`, which is short for *string*, the programming term for *text*. We can't do any clever comparing with just text. We need to *parse* these dates to be able to make comparisons between them. \n",
    "\n",
    "Fortunately, the dates are then specified in a certain *date format*. For example, in the Netherlands people often write '24/12/1980' for the 24th day of December in the year 1980. We could specify that format as `DD/MM/YYYY`.\n",
    "\n",
    "- `DD` stands for 'Two numbers that represent the day'.\n",
    "- `MM` stands for 'Two numbers that represent the month'.\n",
    "- `YYYY` stands for 'Four numbers that represent the year'.\n",
    "\n",
    "If they wrote `-` instead of `/`, like so: '24-12-1980', the format would be `DD-MM-YYYY`.\n",
    "\n",
    "**8. What is the *date format* in the `Date_of_publication` column in our dataset?**\n",
    "\n",
    "*TODO: Your answer here.*\n",
    "\n",
    "**9. Fill in this format in the placeholder in the code block below.**\n",
    "\n",
    "- **Use `%Y` for `YYYY`.**\n",
    "- **Use `%m` for `MM`.**\n",
    "- **Use `%d` for `DD`.**\n",
    "\n",
    "**For example, the Dutch date format ('DD/MM/YYYY' would be `'%d/%m/%Y'`)**"
   ]
  },
  {
   "cell_type": "code",
   "execution_count": null,
   "metadata": {},
   "outputs": [],
   "source": [
    "from datetime import datetime\n",
    "\n",
    "# TODO: Fill in date format for PLACEHOLDER in the next line.\n",
    "date_format = 'PLACEHOLDER'\n",
    "# Don't modify anything below this line.\n",
    "\n",
    "for row in data_dicts:\n",
    "    formatted_date = datetime.strptime(row['Date_of_publication'], date_format).date()\n",
    "    row['Date_of_publication'] = formatted_date\n",
    "    \n",
    "print('The new datatype for the Date_of_publication column is:', type(data_dicts[0]['Date_of_publication']))"
   ]
  },
  {
   "cell_type": "markdown",
   "metadata": {},
   "source": [
    "If you get an error like the following, your `date_format` is not correct yet.\n",
    "\n",
    "```python\n",
    "ValueError: time data '2020-02-27' does not match format 'PLACEHOLDER'\n",
    "```\n",
    "\n",
    "After filling in `date_format` correctly, you should see a line that confirms that the new datatype for this column is `datetime.date`. Great! Now we can compare the dates in the column and answer our original question:\n",
    "\n",
    "> What is the first and last *date of publication* in the dataset?\n",
    "\n",
    "We can now compare the dates with:\n",
    "\n",
    "- `a > b`: this checks if `a` is *later* than `b`.\n",
    "- `a < b`: this checks if `a` is *earlier* than `b`."
   ]
  },
  {
   "cell_type": "code",
   "execution_count": null,
   "metadata": {},
   "outputs": [],
   "source": [
    "# We make the assumption that the date of publication of the first datapoint is the only date. \n",
    "first_date_of_publication = data_dicts[0]['Date_of_publication']\n",
    "last_date_of_publication = data_dicts[0]['Date_of_publication']\n",
    "# Then we see if we can find any earlier ones, or later ones.\n",
    "for row in data_dicts:\n",
    "    # Check if this date is earlier than the currently known first date of publication\n",
    "    if row['Date_of_publication'] < first_date_of_publication:\n",
    "        # If so, this is now the new earliest date.\n",
    "        first_date_of_publication = row['Date_of_publication']\n",
    "    # Check if this date is later than the currently known last date of publication\n",
    "    elif row['Date_of_publication'] > last_date_of_publication:\n",
    "        # If so, this is now the new latest date.\n",
    "        last_date_of_publication = row['Date_of_publication']\n",
    "\n",
    "print(f'The first date of publication is {first_date_of_publication}')\n",
    "print(f'The last date of publication is {last_date_of_publication}')\n",
    "print(f'The dataset spans {(last_date_of_publication - first_date_of_publication).days} days')"
   ]
  },
  {
   "cell_type": "markdown",
   "metadata": {},
   "source": [
    "Cool! We now have a better understanding of what the `Date_of_publication` column looks like.\n",
    "\n",
    "**10. Explain, in your own words, what a string is.**\n",
    "\n",
    "*TODO: Your answer here.*\n",
    "\n",
    "**11. Explain, in your own words, what a date string is.**\n",
    "\n",
    "*TODO: Your answer here.*\n",
    "\n",
    "**12. Explain, in your own words, why we converted date strings to a `datetime.date` type.**\n",
    "\n",
    "*TODO: Your answer here.*\n",
    "\n",
    "\n",
    "## Working with numbers\n",
    "\n",
    "We'd like to wrap up this lesson with a nice visualization of how many COVID cases were reported over time in a certain municipality. For that we not only have to work with strings and dates, but also with *numbers*. We can find the right number in the `Total_reported` column, but again, it's not yet in the right format. It's a string, while it needs to be a number.\n",
    "\n",
    "Let's apply the same strategy that we used with dates before. Note that if you run the cell below multiple times, it will no longer show that the column values used to be a strings -- they were converted the first time."
   ]
  },
  {
   "cell_type": "code",
   "execution_count": null,
   "metadata": {},
   "outputs": [],
   "source": [
    "print('The current datatype for the Total_reported column is:', type(data_dicts[0]['Total_reported']))\n",
    "for row in data_dicts:\n",
    "    row['Total_reported'] = int(row['Total_reported'])\n",
    "print('The new datatype for the Total_reported column is:', type(data_dicts[0]['Total_reported']))"
   ]
  },
  {
   "cell_type": "markdown",
   "metadata": {},
   "source": [
    "The new datatype for the `Total_reported` column is `int`, which stands for *integer*. This is the programming term for *whole number*. Bonus: the term for a decimal number is *float*.\n",
    "\n",
    "**13. Which variable in the code snippet below is an integer? (write an `x` in the right box)**\n",
    "\n",
    "```python\n",
    "a = 'Hello, world!'\n",
    "b = 42\n",
    "```\n",
    "\n",
    "- [ ] `a`\n",
    "- [ ] `b`\n",
    "\n",
    "**14. Which variable in the code snippet below is an integer? (write an `x` in the right box)**\n",
    "\n",
    "```python\n",
    "a = '42'\n",
    "b = 42\n",
    "```\n",
    "\n",
    "- [ ] `a`\n",
    "- [ ] `b`\n",
    "\n",
    "Now that the `Total_reported` column has the correct datatype, let's write a script that tells us the reported number per municipality. For convenience, we first print a list of all the municipalities in the dataset.\n",
    "\n",
    "**15. Choose one of the municipalities printed in the code block below. Then fill it in (exactly as it was displayed) in the next cell and run it to find the total number of reported cases in that municipality.**"
   ]
  },
  {
   "cell_type": "code",
   "execution_count": null,
   "metadata": {},
   "outputs": [],
   "source": [
    "for m in sorted(unique_vals[3]):\n",
    "    if m != '':\n",
    "        print('-', m)"
   ]
  },
  {
   "cell_type": "code",
   "execution_count": null,
   "metadata": {},
   "outputs": [],
   "source": [
    "# TODO: FILL IN THE MUNICIPALITY YOU'RE INTERESTED IN HERE\n",
    "municipality = 'Kampen'\n",
    "# DON'T MODIFY ANYTHING BELOW THIS LINE\n",
    "\n",
    "reported = 0\n",
    "for row in data_dicts:\n",
    "    if row['Municipality_name'] == municipality:\n",
    "        reported += row['Total_reported']\n",
    "print(f'The total number of reported cases in {municipality} is {reported}')"
   ]
  },
  {
   "cell_type": "markdown",
   "metadata": {},
   "source": [
    "Because we have all the data types in order, we can also easily plot the development of new reported cases for that same municipality. "
   ]
  },
  {
   "cell_type": "code",
   "execution_count": null,
   "metadata": {},
   "outputs": [],
   "source": [
    "new_cases_per_day = defaultdict(int)\n",
    "for row in data_dicts:\n",
    "        if row['Municipality_name'] == municipality:\n",
    "            new_cases_per_day[row['Date_of_publication']] += row['Total_reported']\n",
    "new_cases_per_day = sorted(new_cases_per_day.items(), key=lambda x: x[0])\n",
    "\n",
    "fig, ax = plt.subplots(figsize=(16,9))\n",
    "ax.plot([date for date, _ in new_cases_per_day], [cases for _, cases in new_cases_per_day])\n",
    "ax.set_xlabel('Date')\n",
    "ax.set_ylabel('Number of new cases');"
   ]
  },
  {
   "cell_type": "markdown",
   "metadata": {},
   "source": [
    "## Missing Data\n",
    "\n",
    "Finally, a visualization! Let's tackle one final problem: missing data. When we were looking at the metadata, we found that we have $22736$ missing or empty values. Let's print a few datapoints that contain missing values to see what we're dealing with exactly."
   ]
  },
  {
   "cell_type": "code",
   "execution_count": null,
   "metadata": {},
   "outputs": [],
   "source": [
    "for i, row in enumerate(data_dicts):\n",
    "    missing_keys = []\n",
    "    for key, val in row.items():\n",
    "        if val == '':\n",
    "            missing_keys.append(key)\n",
    "    if missing_keys:\n",
    "        print(f'Row {i} contains empty values for: {missing_keys}')"
   ]
  },
  {
   "cell_type": "markdown",
   "metadata": {},
   "source": [
    "**16. What column(s) is/are missing most often?**\n",
    "\n",
    "*TODO: Your answer here.*\n",
    "\n",
    "Missing data may become a problem if we want to draw comparisons between certain parts of the data. Still, there is no universal and definitive *correct approach* to solving the problem of missing data. In fact, in this case there might actually not be a good way to fill in the missing municipalities here.\n",
    "\n",
    "For the sake of exercise, we will create a new dataset for your chosen municipality where the `Total_reported` new cases will be replaced with the impossible number `-1` from a number of the dates.\n",
    "\n",
    "**17. Why is `-1` an impossible number here?**\n",
    "\n",
    "*TODO: Your answer here.*"
   ]
  },
  {
   "cell_type": "code",
   "execution_count": null,
   "metadata": {},
   "outputs": [],
   "source": [
    "noisy_new_cases_per_day = [(date, cases) if np.random.rand() < 0.8\n",
    "                           else (date, -1)\n",
    "                           for date, cases in new_cases_per_day]\n",
    "\n",
    "fig, ax = plt.subplots(figsize=(16,9))\n",
    "ax.plot([date for date, _ in new_cases_per_day],\n",
    "        [cases for _, cases in new_cases_per_day], '.', label='true data')\n",
    "ax.plot([date for date, _ in noisy_new_cases_per_day],\n",
    "        [cases for _, cases in noisy_new_cases_per_day],\n",
    "        label='noisy data')\n",
    "ax.set_xlabel('Date')\n",
    "ax.set_ylabel('Number of new cases')\n",
    "ax.legend();"
   ]
  },
  {
   "cell_type": "markdown",
   "metadata": {},
   "source": [
    "This plot is a lot more messy than the clean data plot, in addition to also showing the impossible number `-1`.\n",
    "\n",
    "**18. What would be a good way to fill in the missing values? You will not need to implement them, so use your imagination.**\n",
    "\n",
    "*TODO: Your answer here.*\n",
    "\n",
    "Here we'll use the mean of the two surrounding dates' values. For example:\n",
    "\n",
    "1. `2020-02-03` is missing\n",
    "2. We take the values from the day before, `2020-02-02`, and the day after, `2020-02-04`. If the data from the day before or after is not available, we use the nearest available datapoint instead.\n",
    "3. We add them up\n",
    "4. Divide them by $2$\n",
    "5. We insert the result as the value for `2020-02-03`.\n",
    "\n",
    "This is a simple way of doing **interpolation** -- estimating missing values within the range of the data we have. This is the opposite of **extrapolation**, where we have estimate values *outside* of the range of the data we have.\n",
    "\n",
    "Let's see what the implementation and the result look like."
   ]
  },
  {
   "cell_type": "code",
   "execution_count": null,
   "metadata": {},
   "outputs": [],
   "source": [
    "interpolated_data = []\n",
    "max_data_index = len(noisy_new_cases_per_day) - 1\n",
    "for i, (date, x) in enumerate(noisy_new_cases_per_day):\n",
    "    # If we have an impossible value\n",
    "    if x == -1:\n",
    "        delta_left = 1\n",
    "        # Scan the left side for values that are not -1\n",
    "        while noisy_new_cases_per_day[i - delta_left][1] == -1:\n",
    "            delta_left += 1\n",
    "            # If we're outside of the data we can't do interpolation. It would be extrapolation.\n",
    "            if i - delta_left < 0:\n",
    "                continue\n",
    "    \n",
    "        # Scan the right side for values that are not -1\n",
    "        delta_right = 1\n",
    "        while noisy_new_cases_per_day[i + delta_right][1] == -1:\n",
    "            delta_right += 1\n",
    "            # If we're outside of the data we can't do interpolation. It would be extrapolation.\n",
    "            if i + delta_right > max_data_index:\n",
    "                continue\n",
    "        \n",
    "        # Finally use the mean of two nearest useful values\n",
    "        interpolated_value = ((noisy_new_cases_per_day[i - delta_left][1]\n",
    "                               + noisy_new_cases_per_day[i + delta_right][1])\n",
    "                              / 2)\n",
    "        interpolated_data.append((date, interpolated_value))\n",
    "    else:\n",
    "        interpolated_data.append((date, x))\n",
    "\n",
    "fig, ax = plt.subplots(figsize=(16,9))\n",
    "ax.plot([date for date, _ in new_cases_per_day],\n",
    "        [cases for _, cases in new_cases_per_day], '.', label='true data')\n",
    "ax.plot([date for date, _ in interpolated_data],\n",
    "        [cases for _, cases in interpolated_data],\n",
    "        label='interpolated data')\n",
    "ax.plot([date for (date, cases) in noisy_new_cases_per_day if cases == -1],\n",
    "        [cases for _, cases in noisy_new_cases_per_day if cases == -1], '.',\n",
    "        label='previously missing data')\n",
    "ax.set_xlabel('Date')\n",
    "ax.set_ylabel('Number of new cases')\n",
    "ax.legend();"
   ]
  },
  {
   "cell_type": "markdown",
   "metadata": {},
   "source": [
    "**19. Is this a good way to fill in missing values, in your opinion? Explain.**\n",
    "\n",
    "*TODO: Your answer here.*\n",
    "\n",
    "**20. In which cases will this way of filling in missing values work well, and when will it not work well at all? Give an example for both cases.**\n",
    "\n",
    "*TODO: Your answer here.*"
   ]
  },
  {
   "cell_type": "markdown",
   "metadata": {},
   "source": [
    "## Conclusion\n",
    "\n",
    "Data preparation may not be the most glamorous part of data analytics, but it is quite important. If we do not do it well, every analytics step that comes after will suffer. It is as they say: *garbage in, garbage out*.\n",
    "\n",
    "It is also good to know that since most data preparation steps are quite general, there are plenty of tools that make doing it a lot easier and faster. All of the above filtering, selecting and interpolating can be done in a few lines of code! But now *you* know how it works under the hood, and why it's so important!"
   ]
  },
  {
   "cell_type": "code",
   "execution_count": null,
   "metadata": {},
   "outputs": [],
   "source": []
  }
 ],
 "metadata": {
  "kernelspec": {
   "display_name": "Python 3",
   "language": "python",
   "name": "python3"
  },
  "language_info": {
   "codemirror_mode": {
    "name": "ipython",
    "version": 3
   },
   "file_extension": ".py",
   "mimetype": "text/x-python",
   "name": "python",
   "nbconvert_exporter": "python",
   "pygments_lexer": "ipython3",
   "version": "3.9.2"
  }
 },
 "nbformat": 4,
 "nbformat_minor": 4
}
